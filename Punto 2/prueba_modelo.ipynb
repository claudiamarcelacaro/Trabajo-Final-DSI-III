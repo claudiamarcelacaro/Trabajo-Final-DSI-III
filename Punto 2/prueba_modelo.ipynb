{
 "cells": [
  {
   "cell_type": "code",
   "execution_count": 25,
   "metadata": {},
   "outputs": [],
   "source": [
    "import pandas as pd\n",
    "import matplotlib.pyplot as plt\n",
    "from sklearn.neighbors import KNeighborsRegressor\n",
    "from sklearn.model_selection import train_test_split\n",
    "from datetime import datetime, timedelta\n",
    "import numpy as np"
   ]
  },
  {
   "cell_type": "code",
   "execution_count": 26,
   "metadata": {},
   "outputs": [],
   "source": [
    "ts = pd.read_csv(\"dolar.csv\", index_col=0, parse_dates=True, dayfirst=True, delimiter=\";\")"
   ]
  },
  {
   "cell_type": "code",
   "execution_count": 27,
   "metadata": {},
   "outputs": [],
   "source": [
    "ts = ts.resample('d').last().dropna().sort_values(by=['fecha'])"
   ]
  },
  {
   "cell_type": "code",
   "execution_count": 28,
   "metadata": {},
   "outputs": [
    {
     "data": {
      "text/html": [
       "<div>\n",
       "<style scoped>\n",
       "    .dataframe tbody tr th:only-of-type {\n",
       "        vertical-align: middle;\n",
       "    }\n",
       "\n",
       "    .dataframe tbody tr th {\n",
       "        vertical-align: top;\n",
       "    }\n",
       "\n",
       "    .dataframe thead th {\n",
       "        text-align: right;\n",
       "    }\n",
       "</style>\n",
       "<table border=\"1\" class=\"dataframe\">\n",
       "  <thead>\n",
       "    <tr style=\"text-align: right;\">\n",
       "      <th></th>\n",
       "      <th>precio</th>\n",
       "    </tr>\n",
       "    <tr>\n",
       "      <th>fecha</th>\n",
       "      <th></th>\n",
       "    </tr>\n",
       "  </thead>\n",
       "  <tbody>\n",
       "    <tr>\n",
       "      <th>2022-10-24</th>\n",
       "      <td>4913.24</td>\n",
       "    </tr>\n",
       "    <tr>\n",
       "      <th>2022-10-25</th>\n",
       "      <td>4968.94</td>\n",
       "    </tr>\n",
       "    <tr>\n",
       "      <th>2022-10-26</th>\n",
       "      <td>4948.14</td>\n",
       "    </tr>\n",
       "    <tr>\n",
       "      <th>2022-10-27</th>\n",
       "      <td>4895.29</td>\n",
       "    </tr>\n",
       "    <tr>\n",
       "      <th>2022-10-28</th>\n",
       "      <td>4821.92</td>\n",
       "    </tr>\n",
       "    <tr>\n",
       "      <th>...</th>\n",
       "      <td>...</td>\n",
       "    </tr>\n",
       "    <tr>\n",
       "      <th>2023-10-20</th>\n",
       "      <td>4249.71</td>\n",
       "    </tr>\n",
       "    <tr>\n",
       "      <th>2023-10-21</th>\n",
       "      <td>4238.85</td>\n",
       "    </tr>\n",
       "    <tr>\n",
       "      <th>2023-10-22</th>\n",
       "      <td>4238.85</td>\n",
       "    </tr>\n",
       "    <tr>\n",
       "      <th>2023-10-23</th>\n",
       "      <td>4238.85</td>\n",
       "    </tr>\n",
       "    <tr>\n",
       "      <th>2023-10-24</th>\n",
       "      <td>4221.39</td>\n",
       "    </tr>\n",
       "  </tbody>\n",
       "</table>\n",
       "<p>366 rows × 1 columns</p>\n",
       "</div>"
      ],
      "text/plain": [
       "             precio\n",
       "fecha              \n",
       "2022-10-24  4913.24\n",
       "2022-10-25  4968.94\n",
       "2022-10-26  4948.14\n",
       "2022-10-27  4895.29\n",
       "2022-10-28  4821.92\n",
       "...             ...\n",
       "2023-10-20  4249.71\n",
       "2023-10-21  4238.85\n",
       "2023-10-22  4238.85\n",
       "2023-10-23  4238.85\n",
       "2023-10-24  4221.39\n",
       "\n",
       "[366 rows x 1 columns]"
      ]
     },
     "execution_count": 28,
     "metadata": {},
     "output_type": "execute_result"
    }
   ],
   "source": [
    "ts"
   ]
  },
  {
   "cell_type": "code",
   "execution_count": 29,
   "metadata": {},
   "outputs": [],
   "source": [
    "df = pd.DataFrame()\n",
    "df[\"t-0\"] = ts[\"precio\"]\n",
    "df.index = ts.index\n",
    "df[\"t-1\"] = ts.shift(1)\n",
    "df[\"t-2\"] = ts.shift(2)\n",
    "df[\"t-3\"] = ts.shift(3)\n",
    "df = df.dropna()"
   ]
  },
  {
   "cell_type": "code",
   "execution_count": 30,
   "metadata": {},
   "outputs": [
    {
     "data": {
      "text/html": [
       "<div>\n",
       "<style scoped>\n",
       "    .dataframe tbody tr th:only-of-type {\n",
       "        vertical-align: middle;\n",
       "    }\n",
       "\n",
       "    .dataframe tbody tr th {\n",
       "        vertical-align: top;\n",
       "    }\n",
       "\n",
       "    .dataframe thead th {\n",
       "        text-align: right;\n",
       "    }\n",
       "</style>\n",
       "<table border=\"1\" class=\"dataframe\">\n",
       "  <thead>\n",
       "    <tr style=\"text-align: right;\">\n",
       "      <th></th>\n",
       "      <th>t-0</th>\n",
       "      <th>t-1</th>\n",
       "      <th>t-2</th>\n",
       "      <th>t-3</th>\n",
       "    </tr>\n",
       "    <tr>\n",
       "      <th>fecha</th>\n",
       "      <th></th>\n",
       "      <th></th>\n",
       "      <th></th>\n",
       "      <th></th>\n",
       "    </tr>\n",
       "  </thead>\n",
       "  <tbody>\n",
       "    <tr>\n",
       "      <th>2022-10-27</th>\n",
       "      <td>4895.29</td>\n",
       "      <td>4948.14</td>\n",
       "      <td>4968.94</td>\n",
       "      <td>4913.24</td>\n",
       "    </tr>\n",
       "    <tr>\n",
       "      <th>2022-10-28</th>\n",
       "      <td>4821.92</td>\n",
       "      <td>4895.29</td>\n",
       "      <td>4948.14</td>\n",
       "      <td>4968.94</td>\n",
       "    </tr>\n",
       "    <tr>\n",
       "      <th>2022-10-29</th>\n",
       "      <td>4819.42</td>\n",
       "      <td>4821.92</td>\n",
       "      <td>4895.29</td>\n",
       "      <td>4948.14</td>\n",
       "    </tr>\n",
       "    <tr>\n",
       "      <th>2022-10-30</th>\n",
       "      <td>4819.42</td>\n",
       "      <td>4819.42</td>\n",
       "      <td>4821.92</td>\n",
       "      <td>4895.29</td>\n",
       "    </tr>\n",
       "    <tr>\n",
       "      <th>2022-10-31</th>\n",
       "      <td>4819.42</td>\n",
       "      <td>4819.42</td>\n",
       "      <td>4819.42</td>\n",
       "      <td>4821.92</td>\n",
       "    </tr>\n",
       "    <tr>\n",
       "      <th>...</th>\n",
       "      <td>...</td>\n",
       "      <td>...</td>\n",
       "      <td>...</td>\n",
       "      <td>...</td>\n",
       "    </tr>\n",
       "    <tr>\n",
       "      <th>2023-10-20</th>\n",
       "      <td>4249.71</td>\n",
       "      <td>4227.39</td>\n",
       "      <td>4222.09</td>\n",
       "      <td>4249.00</td>\n",
       "    </tr>\n",
       "    <tr>\n",
       "      <th>2023-10-21</th>\n",
       "      <td>4238.85</td>\n",
       "      <td>4249.71</td>\n",
       "      <td>4227.39</td>\n",
       "      <td>4222.09</td>\n",
       "    </tr>\n",
       "    <tr>\n",
       "      <th>2023-10-22</th>\n",
       "      <td>4238.85</td>\n",
       "      <td>4238.85</td>\n",
       "      <td>4249.71</td>\n",
       "      <td>4227.39</td>\n",
       "    </tr>\n",
       "    <tr>\n",
       "      <th>2023-10-23</th>\n",
       "      <td>4238.85</td>\n",
       "      <td>4238.85</td>\n",
       "      <td>4238.85</td>\n",
       "      <td>4249.71</td>\n",
       "    </tr>\n",
       "    <tr>\n",
       "      <th>2023-10-24</th>\n",
       "      <td>4221.39</td>\n",
       "      <td>4238.85</td>\n",
       "      <td>4238.85</td>\n",
       "      <td>4238.85</td>\n",
       "    </tr>\n",
       "  </tbody>\n",
       "</table>\n",
       "<p>363 rows × 4 columns</p>\n",
       "</div>"
      ],
      "text/plain": [
       "                t-0      t-1      t-2      t-3\n",
       "fecha                                         \n",
       "2022-10-27  4895.29  4948.14  4968.94  4913.24\n",
       "2022-10-28  4821.92  4895.29  4948.14  4968.94\n",
       "2022-10-29  4819.42  4821.92  4895.29  4948.14\n",
       "2022-10-30  4819.42  4819.42  4821.92  4895.29\n",
       "2022-10-31  4819.42  4819.42  4819.42  4821.92\n",
       "...             ...      ...      ...      ...\n",
       "2023-10-20  4249.71  4227.39  4222.09  4249.00\n",
       "2023-10-21  4238.85  4249.71  4227.39  4222.09\n",
       "2023-10-22  4238.85  4238.85  4249.71  4227.39\n",
       "2023-10-23  4238.85  4238.85  4238.85  4249.71\n",
       "2023-10-24  4221.39  4238.85  4238.85  4238.85\n",
       "\n",
       "[363 rows x 4 columns]"
      ]
     },
     "execution_count": 30,
     "metadata": {},
     "output_type": "execute_result"
    }
   ],
   "source": [
    "df"
   ]
  },
  {
   "cell_type": "code",
   "execution_count": 31,
   "metadata": {},
   "outputs": [],
   "source": [
    "X = df.drop('t-0', axis=1)\n",
    "y = df['t-0']"
   ]
  },
  {
   "cell_type": "code",
   "execution_count": 32,
   "metadata": {},
   "outputs": [],
   "source": [
    "X_train, X_test, y_train, y_test = train_test_split(X, y, test_size=0.3, shuffle=False) #Sin desordenar los datos"
   ]
  },
  {
   "cell_type": "code",
   "execution_count": 33,
   "metadata": {},
   "outputs": [
    {
     "data": {
      "text/html": [
       "<div>\n",
       "<style scoped>\n",
       "    .dataframe tbody tr th:only-of-type {\n",
       "        vertical-align: middle;\n",
       "    }\n",
       "\n",
       "    .dataframe tbody tr th {\n",
       "        vertical-align: top;\n",
       "    }\n",
       "\n",
       "    .dataframe thead th {\n",
       "        text-align: right;\n",
       "    }\n",
       "</style>\n",
       "<table border=\"1\" class=\"dataframe\">\n",
       "  <thead>\n",
       "    <tr style=\"text-align: right;\">\n",
       "      <th></th>\n",
       "      <th>t-1</th>\n",
       "      <th>t-2</th>\n",
       "      <th>t-3</th>\n",
       "    </tr>\n",
       "    <tr>\n",
       "      <th>fecha</th>\n",
       "      <th></th>\n",
       "      <th></th>\n",
       "      <th></th>\n",
       "    </tr>\n",
       "  </thead>\n",
       "  <tbody>\n",
       "    <tr>\n",
       "      <th>2022-10-27</th>\n",
       "      <td>4948.14</td>\n",
       "      <td>4968.94</td>\n",
       "      <td>4913.24</td>\n",
       "    </tr>\n",
       "    <tr>\n",
       "      <th>2022-10-28</th>\n",
       "      <td>4895.29</td>\n",
       "      <td>4948.14</td>\n",
       "      <td>4968.94</td>\n",
       "    </tr>\n",
       "    <tr>\n",
       "      <th>2022-10-29</th>\n",
       "      <td>4821.92</td>\n",
       "      <td>4895.29</td>\n",
       "      <td>4948.14</td>\n",
       "    </tr>\n",
       "    <tr>\n",
       "      <th>2022-10-30</th>\n",
       "      <td>4819.42</td>\n",
       "      <td>4821.92</td>\n",
       "      <td>4895.29</td>\n",
       "    </tr>\n",
       "    <tr>\n",
       "      <th>2022-10-31</th>\n",
       "      <td>4819.42</td>\n",
       "      <td>4819.42</td>\n",
       "      <td>4821.92</td>\n",
       "    </tr>\n",
       "    <tr>\n",
       "      <th>...</th>\n",
       "      <td>...</td>\n",
       "      <td>...</td>\n",
       "      <td>...</td>\n",
       "    </tr>\n",
       "    <tr>\n",
       "      <th>2023-07-03</th>\n",
       "      <td>4177.58</td>\n",
       "      <td>4177.58</td>\n",
       "      <td>4191.28</td>\n",
       "    </tr>\n",
       "    <tr>\n",
       "      <th>2023-07-04</th>\n",
       "      <td>4177.58</td>\n",
       "      <td>4177.58</td>\n",
       "      <td>4177.58</td>\n",
       "    </tr>\n",
       "    <tr>\n",
       "      <th>2023-07-05</th>\n",
       "      <td>4177.58</td>\n",
       "      <td>4177.58</td>\n",
       "      <td>4177.58</td>\n",
       "    </tr>\n",
       "    <tr>\n",
       "      <th>2023-07-06</th>\n",
       "      <td>4177.58</td>\n",
       "      <td>4177.58</td>\n",
       "      <td>4177.58</td>\n",
       "    </tr>\n",
       "    <tr>\n",
       "      <th>2023-07-07</th>\n",
       "      <td>4128.08</td>\n",
       "      <td>4177.58</td>\n",
       "      <td>4177.58</td>\n",
       "    </tr>\n",
       "  </tbody>\n",
       "</table>\n",
       "<p>254 rows × 3 columns</p>\n",
       "</div>"
      ],
      "text/plain": [
       "                t-1      t-2      t-3\n",
       "fecha                                \n",
       "2022-10-27  4948.14  4968.94  4913.24\n",
       "2022-10-28  4895.29  4948.14  4968.94\n",
       "2022-10-29  4821.92  4895.29  4948.14\n",
       "2022-10-30  4819.42  4821.92  4895.29\n",
       "2022-10-31  4819.42  4819.42  4821.92\n",
       "...             ...      ...      ...\n",
       "2023-07-03  4177.58  4177.58  4191.28\n",
       "2023-07-04  4177.58  4177.58  4177.58\n",
       "2023-07-05  4177.58  4177.58  4177.58\n",
       "2023-07-06  4177.58  4177.58  4177.58\n",
       "2023-07-07  4128.08  4177.58  4177.58\n",
       "\n",
       "[254 rows x 3 columns]"
      ]
     },
     "execution_count": 33,
     "metadata": {},
     "output_type": "execute_result"
    }
   ],
   "source": [
    "X_train"
   ]
  },
  {
   "cell_type": "code",
   "execution_count": 34,
   "metadata": {},
   "outputs": [
    {
     "data": {
      "text/html": [
       "<style>#sk-container-id-2 {color: black;}#sk-container-id-2 pre{padding: 0;}#sk-container-id-2 div.sk-toggleable {background-color: white;}#sk-container-id-2 label.sk-toggleable__label {cursor: pointer;display: block;width: 100%;margin-bottom: 0;padding: 0.3em;box-sizing: border-box;text-align: center;}#sk-container-id-2 label.sk-toggleable__label-arrow:before {content: \"▸\";float: left;margin-right: 0.25em;color: #696969;}#sk-container-id-2 label.sk-toggleable__label-arrow:hover:before {color: black;}#sk-container-id-2 div.sk-estimator:hover label.sk-toggleable__label-arrow:before {color: black;}#sk-container-id-2 div.sk-toggleable__content {max-height: 0;max-width: 0;overflow: hidden;text-align: left;background-color: #f0f8ff;}#sk-container-id-2 div.sk-toggleable__content pre {margin: 0.2em;color: black;border-radius: 0.25em;background-color: #f0f8ff;}#sk-container-id-2 input.sk-toggleable__control:checked~div.sk-toggleable__content {max-height: 200px;max-width: 100%;overflow: auto;}#sk-container-id-2 input.sk-toggleable__control:checked~label.sk-toggleable__label-arrow:before {content: \"▾\";}#sk-container-id-2 div.sk-estimator input.sk-toggleable__control:checked~label.sk-toggleable__label {background-color: #d4ebff;}#sk-container-id-2 div.sk-label input.sk-toggleable__control:checked~label.sk-toggleable__label {background-color: #d4ebff;}#sk-container-id-2 input.sk-hidden--visually {border: 0;clip: rect(1px 1px 1px 1px);clip: rect(1px, 1px, 1px, 1px);height: 1px;margin: -1px;overflow: hidden;padding: 0;position: absolute;width: 1px;}#sk-container-id-2 div.sk-estimator {font-family: monospace;background-color: #f0f8ff;border: 1px dotted black;border-radius: 0.25em;box-sizing: border-box;margin-bottom: 0.5em;}#sk-container-id-2 div.sk-estimator:hover {background-color: #d4ebff;}#sk-container-id-2 div.sk-parallel-item::after {content: \"\";width: 100%;border-bottom: 1px solid gray;flex-grow: 1;}#sk-container-id-2 div.sk-label:hover label.sk-toggleable__label {background-color: #d4ebff;}#sk-container-id-2 div.sk-serial::before {content: \"\";position: absolute;border-left: 1px solid gray;box-sizing: border-box;top: 0;bottom: 0;left: 50%;z-index: 0;}#sk-container-id-2 div.sk-serial {display: flex;flex-direction: column;align-items: center;background-color: white;padding-right: 0.2em;padding-left: 0.2em;position: relative;}#sk-container-id-2 div.sk-item {position: relative;z-index: 1;}#sk-container-id-2 div.sk-parallel {display: flex;align-items: stretch;justify-content: center;background-color: white;position: relative;}#sk-container-id-2 div.sk-item::before, #sk-container-id-2 div.sk-parallel-item::before {content: \"\";position: absolute;border-left: 1px solid gray;box-sizing: border-box;top: 0;bottom: 0;left: 50%;z-index: -1;}#sk-container-id-2 div.sk-parallel-item {display: flex;flex-direction: column;z-index: 1;position: relative;background-color: white;}#sk-container-id-2 div.sk-parallel-item:first-child::after {align-self: flex-end;width: 50%;}#sk-container-id-2 div.sk-parallel-item:last-child::after {align-self: flex-start;width: 50%;}#sk-container-id-2 div.sk-parallel-item:only-child::after {width: 0;}#sk-container-id-2 div.sk-dashed-wrapped {border: 1px dashed gray;margin: 0 0.4em 0.5em 0.4em;box-sizing: border-box;padding-bottom: 0.4em;background-color: white;}#sk-container-id-2 div.sk-label label {font-family: monospace;font-weight: bold;display: inline-block;line-height: 1.2em;}#sk-container-id-2 div.sk-label-container {text-align: center;}#sk-container-id-2 div.sk-container {/* jupyter's `normalize.less` sets `[hidden] { display: none; }` but bootstrap.min.css set `[hidden] { display: none !important; }` so we also need the `!important` here to be able to override the default hidden behavior on the sphinx rendered scikit-learn.org. See: https://github.com/scikit-learn/scikit-learn/issues/21755 */display: inline-block !important;position: relative;}#sk-container-id-2 div.sk-text-repr-fallback {display: none;}</style><div id=\"sk-container-id-2\" class=\"sk-top-container\"><div class=\"sk-text-repr-fallback\"><pre>KNeighborsRegressor(n_neighbors=20, weights=&#x27;distance&#x27;)</pre><b>In a Jupyter environment, please rerun this cell to show the HTML representation or trust the notebook. <br />On GitHub, the HTML representation is unable to render, please try loading this page with nbviewer.org.</b></div><div class=\"sk-container\" hidden><div class=\"sk-item\"><div class=\"sk-estimator sk-toggleable\"><input class=\"sk-toggleable__control sk-hidden--visually\" id=\"sk-estimator-id-2\" type=\"checkbox\" checked><label for=\"sk-estimator-id-2\" class=\"sk-toggleable__label sk-toggleable__label-arrow\">KNeighborsRegressor</label><div class=\"sk-toggleable__content\"><pre>KNeighborsRegressor(n_neighbors=20, weights=&#x27;distance&#x27;)</pre></div></div></div></div></div>"
      ],
      "text/plain": [
       "KNeighborsRegressor(n_neighbors=20, weights='distance')"
      ]
     },
     "execution_count": 34,
     "metadata": {},
     "output_type": "execute_result"
    }
   ],
   "source": [
    "model = KNeighborsRegressor(n_neighbors=20, weights='distance')\n",
    "model.fit(X_train, y_train)"
   ]
  },
  {
   "cell_type": "code",
   "execution_count": 35,
   "metadata": {},
   "outputs": [
    {
     "data": {
      "text/plain": [
       "'2023-10-24'"
      ]
     },
     "execution_count": 35,
     "metadata": {},
     "output_type": "execute_result"
    }
   ],
   "source": [
    "now = datetime.now() - timedelta(hours=5) \n",
    "today = str(now.strftime(\"%Y-%m-%d\"))\n",
    "today"
   ]
  },
  {
   "cell_type": "code",
   "execution_count": 36,
   "metadata": {},
   "outputs": [
    {
     "name": "stdout",
     "output_type": "stream",
     "text": [
      "             t-1   t-2   t-3\n",
      "fecha                       \n",
      "2023-10-24  4007  4410  4099\n",
      "[4166.38204261]\n",
      "             t-1   t-2   t-3\n",
      "fecha                       \n",
      "2023-10-24  4413  4004  4022\n",
      "[4164.33032957]\n",
      "             t-1   t-2   t-3\n",
      "fecha                       \n",
      "2023-10-24  4458  4441  4130\n",
      "[4399.17821664]\n",
      "             t-1   t-2   t-3\n",
      "fecha                       \n",
      "2023-10-24  4084  4206  4165\n",
      "[4162.24672729]\n",
      "             t-1   t-2   t-3\n",
      "fecha                       \n",
      "2023-10-24  4421  4422  4389\n",
      "[4422.06804065]\n"
     ]
    }
   ],
   "source": [
    "for i in range(5):\n",
    "    t1 = np.random.randint(4000, 4500)\n",
    "    t2 = np.random.randint(4000, 4500)\n",
    "    t3 = np.random.randint(4000, 4500)\n",
    "\n",
    "    prueba = pd.DataFrame({'fecha':[today], 't-1': [t1], 't-2': [t2], 't-3': [t3]})\n",
    "    prueba['fecha'] = pd.to_datetime(prueba['fecha'], format='%Y-%m-%d')\n",
    "    prueba = prueba.set_index('fecha')\n",
    "    prueba = prueba.sort_index()\n",
    "    print(prueba)\n",
    "    \n",
    "    valor_predict = model.predict(prueba)\n",
    "    print(valor_predict)"
   ]
  },
  {
   "cell_type": "code",
   "execution_count": 37,
   "metadata": {},
   "outputs": [],
   "source": [
    "valor_real = df[df.index == df.index.max()][\"t-0\"].values\n",
    "valor_predict = model.predict(X_test)"
   ]
  },
  {
   "cell_type": "code",
   "execution_count": 38,
   "metadata": {},
   "outputs": [
    {
     "name": "stdout",
     "output_type": "stream",
     "text": [
      "valor_real:[4221.39]\n",
      "valor_predict:[4164.55071705 4166.73896262 4170.1311282  4169.99800453 4167.79611636\n",
      " 4169.30745455 4162.65787221 4161.68141638 4160.60909557 4161.96017689\n",
      " 4162.02332363 4160.90336053 4161.27214422 4161.30461492 4162.78314677\n",
      " 4162.80109964 4162.8057996  4162.81120676 4161.36608693 4162.81566188\n",
      " 4162.84190745 4161.38280226 4161.39920431 4162.89184168 4162.89510585\n",
      " 4161.42019743 4163.08226356 4163.02573772 4162.72049878 4162.38925015\n",
      " 4160.89933393 4162.21415809 4162.21415809 4162.22392331 4161.13376818\n",
      " 4161.33589415 4161.3352408  4162.81882099 4162.80663124 4162.96592648\n",
      " 4162.85689698 4162.51804156 4160.63121147 4161.29676753 4161.50967071\n",
      " 4160.39039399 4160.39039399 4160.59683044 4160.67713675 4160.81564858\n",
      " 4162.12931928 4161.96110406 4160.94470932 4161.15831503 4161.28027649\n",
      " 4160.66406341 4161.84221092 4160.95109694 4160.98100686 4162.38372935\n",
      " 4162.38372935 4162.46887675 4162.35551989 4161.06079097 4161.21083107\n",
      " 4161.24252611 4162.69265676 4162.71920534 4162.73711182 4161.35227186\n",
      " 4161.38392952 4162.88032414 4162.88905302 4162.88836387 4161.41474335\n",
      " 4162.91256021 4162.91773758 4163.11724031 4162.87810377 4162.85619974\n",
      " 4162.85597728 4163.00302867 4162.91723455 4162.48702903 4162.16254064\n",
      " 4161.00887736 4161.05578878 4162.46721492 4162.50189089 4163.00473305\n",
      " 4167.86461317 4182.67058068 4372.73567644 4393.95842661 4398.63551245\n",
      " 4398.63551245 4351.54821685 4192.92938203 4170.2976377  4170.23419705\n",
      " 4172.98012466 4173.45503396 4173.45503396 4171.43228715 4170.52712241\n",
      " 4170.29022786 4170.34261326 4173.2289648  4170.44720864]\n"
     ]
    }
   ],
   "source": [
    "print(f'valor_real:{valor_real}')\n",
    "print(f'valor_predict:{valor_predict}')"
   ]
  }
 ],
 "metadata": {
  "kernelspec": {
   "display_name": "Python 3",
   "language": "python",
   "name": "python3"
  },
  "language_info": {
   "codemirror_mode": {
    "name": "ipython",
    "version": 3
   },
   "file_extension": ".py",
   "mimetype": "text/x-python",
   "name": "python",
   "nbconvert_exporter": "python",
   "pygments_lexer": "ipython3",
   "version": "3.10.11"
  }
 },
 "nbformat": 4,
 "nbformat_minor": 2
}
