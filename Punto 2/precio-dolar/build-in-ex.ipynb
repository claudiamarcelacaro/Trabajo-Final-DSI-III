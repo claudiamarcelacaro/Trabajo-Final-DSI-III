{
 "cells": [
  {
   "cell_type": "code",
   "execution_count": 1,
   "id": "a41426b5-0d8d-4cc3-8ddb-d98dcaf1665e",
   "metadata": {
    "tags": []
   },
   "outputs": [
    {
     "name": "stdout",
     "output_type": "stream",
     "text": [
      "sagemaker.config INFO - Not applying SDK defaults from location: /etc/xdg/sagemaker/config.yaml\n",
      "sagemaker.config INFO - Not applying SDK defaults from location: /home/ec2-user/.config/sagemaker/config.yaml\n"
     ]
    }
   ],
   "source": [
    "import pandas as pd\n",
    "import numpy as np\n",
    "import sagemaker\n",
    "from sagemaker.estimator import Estimator\n",
    "from sklearn.neighbors import KNeighborsRegressor\n",
    "from sklearn.model_selection import train_test_split\n",
    "from sagemaker.inputs import TrainingInput\n",
    "from sagemaker.serializers import CSVSerializer\n",
    "from sagemaker.deserializers import CSVDeserializer\n",
    "from sagemaker.sklearn.model import SKLearnModel\n",
    "from sagemaker.model_monitor import DataCaptureConfig, ModelQualityMonitor, DatasetFormat, EndpointInput\n",
    "import matplotlib.pyplot as plt\n",
    "import joblib\n",
    "import boto3"
   ]
  },
  {
   "cell_type": "code",
   "execution_count": 2,
   "id": "11e4ac40-152f-4324-a014-bbe0c78950f9",
   "metadata": {
    "tags": []
   },
   "outputs": [],
   "source": [
    "s3_client = boto3.client('s3')\n",
    "\n",
    "s3 = boto3.resource('s3')"
   ]
  },
  {
   "cell_type": "code",
   "execution_count": 3,
   "id": "b5fcc158-d8ac-427c-b3a5-a2787ab25501",
   "metadata": {
    "tags": []
   },
   "outputs": [],
   "source": [
    "#import io\n",
    "\n",
    "#bucket = s3.Bucket('dolar-clau-final')\n",
    "\n",
    "# Importar desde el bucket de S3\n",
    "#df_array = []\n",
    "\n",
    "#for file in bucket.objects.filter():\n",
    "#    if file.key.endswith('.csv'):\n",
    "#        s3_response = s3_client.get_object(Bucket='dolar-clau-final', Key=file.key)\n",
    "#        df_array.append(pd.read_csv(io.BytesIO(s3_response['Body'].read()), index_col=0, dayfirst=True, parse_dates=True))\n",
    "#ts = pd.concat(df_array, axis=0)\n",
    "\n",
    "#ts = ts.resample('d').last().dropna().sort_values(by=['fecha'])\n",
    "#ts"
   ]
  },
  {
   "cell_type": "code",
   "execution_count": 4,
   "id": "8dad7aa3-e8a4-4a6d-bccd-8c80ed67b33a",
   "metadata": {
    "tags": []
   },
   "outputs": [
    {
     "data": {
      "text/html": [
       "<div>\n",
       "<style scoped>\n",
       "    .dataframe tbody tr th:only-of-type {\n",
       "        vertical-align: middle;\n",
       "    }\n",
       "\n",
       "    .dataframe tbody tr th {\n",
       "        vertical-align: top;\n",
       "    }\n",
       "\n",
       "    .dataframe thead th {\n",
       "        text-align: right;\n",
       "    }\n",
       "</style>\n",
       "<table border=\"1\" class=\"dataframe\">\n",
       "  <thead>\n",
       "    <tr style=\"text-align: right;\">\n",
       "      <th></th>\n",
       "      <th>precio</th>\n",
       "    </tr>\n",
       "    <tr>\n",
       "      <th>fecha</th>\n",
       "      <th></th>\n",
       "    </tr>\n",
       "  </thead>\n",
       "  <tbody>\n",
       "    <tr>\n",
       "      <th>2023-10-01</th>\n",
       "      <td>4053.76</td>\n",
       "    </tr>\n",
       "    <tr>\n",
       "      <th>2023-10-02</th>\n",
       "      <td>4053.76</td>\n",
       "    </tr>\n",
       "    <tr>\n",
       "      <th>2023-10-03</th>\n",
       "      <td>4141.43</td>\n",
       "    </tr>\n",
       "    <tr>\n",
       "      <th>2023-10-04</th>\n",
       "      <td>4187.01</td>\n",
       "    </tr>\n",
       "    <tr>\n",
       "      <th>2023-10-05</th>\n",
       "      <td>4252.09</td>\n",
       "    </tr>\n",
       "    <tr>\n",
       "      <th>2023-10-06</th>\n",
       "      <td>4359.40</td>\n",
       "    </tr>\n",
       "    <tr>\n",
       "      <th>2023-10-07</th>\n",
       "      <td>4386.66</td>\n",
       "    </tr>\n",
       "    <tr>\n",
       "      <th>2023-10-08</th>\n",
       "      <td>4386.66</td>\n",
       "    </tr>\n",
       "    <tr>\n",
       "      <th>2023-10-09</th>\n",
       "      <td>4386.66</td>\n",
       "    </tr>\n",
       "    <tr>\n",
       "      <th>2023-10-10</th>\n",
       "      <td>4386.66</td>\n",
       "    </tr>\n",
       "    <tr>\n",
       "      <th>2023-10-11</th>\n",
       "      <td>4231.97</td>\n",
       "    </tr>\n",
       "    <tr>\n",
       "      <th>2023-10-12</th>\n",
       "      <td>4212.50</td>\n",
       "    </tr>\n",
       "    <tr>\n",
       "      <th>2023-10-13</th>\n",
       "      <td>4230.61</td>\n",
       "    </tr>\n",
       "    <tr>\n",
       "      <th>2023-10-14</th>\n",
       "      <td>4249.00</td>\n",
       "    </tr>\n",
       "    <tr>\n",
       "      <th>2023-10-15</th>\n",
       "      <td>4249.00</td>\n",
       "    </tr>\n",
       "    <tr>\n",
       "      <th>2023-10-16</th>\n",
       "      <td>4249.00</td>\n",
       "    </tr>\n",
       "    <tr>\n",
       "      <th>2023-10-17</th>\n",
       "      <td>4249.00</td>\n",
       "    </tr>\n",
       "    <tr>\n",
       "      <th>2023-10-18</th>\n",
       "      <td>4222.09</td>\n",
       "    </tr>\n",
       "    <tr>\n",
       "      <th>2023-10-19</th>\n",
       "      <td>4227.39</td>\n",
       "    </tr>\n",
       "    <tr>\n",
       "      <th>2023-10-20</th>\n",
       "      <td>4249.71</td>\n",
       "    </tr>\n",
       "    <tr>\n",
       "      <th>2023-10-21</th>\n",
       "      <td>4238.85</td>\n",
       "    </tr>\n",
       "    <tr>\n",
       "      <th>2023-10-22</th>\n",
       "      <td>4238.85</td>\n",
       "    </tr>\n",
       "    <tr>\n",
       "      <th>2023-10-23</th>\n",
       "      <td>4238.85</td>\n",
       "    </tr>\n",
       "    <tr>\n",
       "      <th>2023-10-24</th>\n",
       "      <td>4221.39</td>\n",
       "    </tr>\n",
       "  </tbody>\n",
       "</table>\n",
       "</div>"
      ],
      "text/plain": [
       "             precio\n",
       "fecha              \n",
       "2023-10-01  4053.76\n",
       "2023-10-02  4053.76\n",
       "2023-10-03  4141.43\n",
       "2023-10-04  4187.01\n",
       "2023-10-05  4252.09\n",
       "2023-10-06  4359.40\n",
       "2023-10-07  4386.66\n",
       "2023-10-08  4386.66\n",
       "2023-10-09  4386.66\n",
       "2023-10-10  4386.66\n",
       "2023-10-11  4231.97\n",
       "2023-10-12  4212.50\n",
       "2023-10-13  4230.61\n",
       "2023-10-14  4249.00\n",
       "2023-10-15  4249.00\n",
       "2023-10-16  4249.00\n",
       "2023-10-17  4249.00\n",
       "2023-10-18  4222.09\n",
       "2023-10-19  4227.39\n",
       "2023-10-20  4249.71\n",
       "2023-10-21  4238.85\n",
       "2023-10-22  4238.85\n",
       "2023-10-23  4238.85\n",
       "2023-10-24  4221.39"
      ]
     },
     "execution_count": 4,
     "metadata": {},
     "output_type": "execute_result"
    }
   ],
   "source": [
    "ts = pd.read_csv(\"dolar.csv\", index_col=0, parse_dates=True, dayfirst=True, delimiter=\";\")\n",
    "ts = ts.sort_values(by=['fecha'])\n",
    "ts = ts.loc[\"2023-10\":].copy() #Permitir una cantidad menor de datos por limitación del sagamaker\n",
    "ts"
   ]
  },
  {
   "cell_type": "code",
   "execution_count": 5,
   "id": "86540429-5b64-494e-bbd3-9662e8fce86d",
   "metadata": {
    "tags": []
   },
   "outputs": [],
   "source": [
    "df = pd.DataFrame()\n",
    "df[\"t-0\"] = ts[\"precio\"]\n",
    "df.index = ts.index\n",
    "df[\"t-1\"] = ts.shift(1)\n",
    "df[\"t-2\"] = ts.shift(2)\n",
    "df = df.dropna()"
   ]
  },
  {
   "cell_type": "code",
   "execution_count": 6,
   "id": "28f78ccd-c49c-42e6-8e87-f899b4d2acf6",
   "metadata": {
    "tags": []
   },
   "outputs": [
    {
     "data": {
      "text/html": [
       "<div>\n",
       "<style scoped>\n",
       "    .dataframe tbody tr th:only-of-type {\n",
       "        vertical-align: middle;\n",
       "    }\n",
       "\n",
       "    .dataframe tbody tr th {\n",
       "        vertical-align: top;\n",
       "    }\n",
       "\n",
       "    .dataframe thead th {\n",
       "        text-align: right;\n",
       "    }\n",
       "</style>\n",
       "<table border=\"1\" class=\"dataframe\">\n",
       "  <thead>\n",
       "    <tr style=\"text-align: right;\">\n",
       "      <th></th>\n",
       "      <th>t-0</th>\n",
       "      <th>t-1</th>\n",
       "      <th>t-2</th>\n",
       "    </tr>\n",
       "    <tr>\n",
       "      <th>fecha</th>\n",
       "      <th></th>\n",
       "      <th></th>\n",
       "      <th></th>\n",
       "    </tr>\n",
       "  </thead>\n",
       "  <tbody>\n",
       "    <tr>\n",
       "      <th>2023-10-03</th>\n",
       "      <td>4141.43</td>\n",
       "      <td>4053.76</td>\n",
       "      <td>4053.76</td>\n",
       "    </tr>\n",
       "    <tr>\n",
       "      <th>2023-10-04</th>\n",
       "      <td>4187.01</td>\n",
       "      <td>4141.43</td>\n",
       "      <td>4053.76</td>\n",
       "    </tr>\n",
       "    <tr>\n",
       "      <th>2023-10-05</th>\n",
       "      <td>4252.09</td>\n",
       "      <td>4187.01</td>\n",
       "      <td>4141.43</td>\n",
       "    </tr>\n",
       "    <tr>\n",
       "      <th>2023-10-06</th>\n",
       "      <td>4359.40</td>\n",
       "      <td>4252.09</td>\n",
       "      <td>4187.01</td>\n",
       "    </tr>\n",
       "    <tr>\n",
       "      <th>2023-10-07</th>\n",
       "      <td>4386.66</td>\n",
       "      <td>4359.40</td>\n",
       "      <td>4252.09</td>\n",
       "    </tr>\n",
       "    <tr>\n",
       "      <th>2023-10-08</th>\n",
       "      <td>4386.66</td>\n",
       "      <td>4386.66</td>\n",
       "      <td>4359.40</td>\n",
       "    </tr>\n",
       "    <tr>\n",
       "      <th>2023-10-09</th>\n",
       "      <td>4386.66</td>\n",
       "      <td>4386.66</td>\n",
       "      <td>4386.66</td>\n",
       "    </tr>\n",
       "    <tr>\n",
       "      <th>2023-10-10</th>\n",
       "      <td>4386.66</td>\n",
       "      <td>4386.66</td>\n",
       "      <td>4386.66</td>\n",
       "    </tr>\n",
       "    <tr>\n",
       "      <th>2023-10-11</th>\n",
       "      <td>4231.97</td>\n",
       "      <td>4386.66</td>\n",
       "      <td>4386.66</td>\n",
       "    </tr>\n",
       "    <tr>\n",
       "      <th>2023-10-12</th>\n",
       "      <td>4212.50</td>\n",
       "      <td>4231.97</td>\n",
       "      <td>4386.66</td>\n",
       "    </tr>\n",
       "    <tr>\n",
       "      <th>2023-10-13</th>\n",
       "      <td>4230.61</td>\n",
       "      <td>4212.50</td>\n",
       "      <td>4231.97</td>\n",
       "    </tr>\n",
       "    <tr>\n",
       "      <th>2023-10-14</th>\n",
       "      <td>4249.00</td>\n",
       "      <td>4230.61</td>\n",
       "      <td>4212.50</td>\n",
       "    </tr>\n",
       "    <tr>\n",
       "      <th>2023-10-15</th>\n",
       "      <td>4249.00</td>\n",
       "      <td>4249.00</td>\n",
       "      <td>4230.61</td>\n",
       "    </tr>\n",
       "    <tr>\n",
       "      <th>2023-10-16</th>\n",
       "      <td>4249.00</td>\n",
       "      <td>4249.00</td>\n",
       "      <td>4249.00</td>\n",
       "    </tr>\n",
       "    <tr>\n",
       "      <th>2023-10-17</th>\n",
       "      <td>4249.00</td>\n",
       "      <td>4249.00</td>\n",
       "      <td>4249.00</td>\n",
       "    </tr>\n",
       "    <tr>\n",
       "      <th>2023-10-18</th>\n",
       "      <td>4222.09</td>\n",
       "      <td>4249.00</td>\n",
       "      <td>4249.00</td>\n",
       "    </tr>\n",
       "    <tr>\n",
       "      <th>2023-10-19</th>\n",
       "      <td>4227.39</td>\n",
       "      <td>4222.09</td>\n",
       "      <td>4249.00</td>\n",
       "    </tr>\n",
       "    <tr>\n",
       "      <th>2023-10-20</th>\n",
       "      <td>4249.71</td>\n",
       "      <td>4227.39</td>\n",
       "      <td>4222.09</td>\n",
       "    </tr>\n",
       "    <tr>\n",
       "      <th>2023-10-21</th>\n",
       "      <td>4238.85</td>\n",
       "      <td>4249.71</td>\n",
       "      <td>4227.39</td>\n",
       "    </tr>\n",
       "    <tr>\n",
       "      <th>2023-10-22</th>\n",
       "      <td>4238.85</td>\n",
       "      <td>4238.85</td>\n",
       "      <td>4249.71</td>\n",
       "    </tr>\n",
       "    <tr>\n",
       "      <th>2023-10-23</th>\n",
       "      <td>4238.85</td>\n",
       "      <td>4238.85</td>\n",
       "      <td>4238.85</td>\n",
       "    </tr>\n",
       "    <tr>\n",
       "      <th>2023-10-24</th>\n",
       "      <td>4221.39</td>\n",
       "      <td>4238.85</td>\n",
       "      <td>4238.85</td>\n",
       "    </tr>\n",
       "  </tbody>\n",
       "</table>\n",
       "</div>"
      ],
      "text/plain": [
       "                t-0      t-1      t-2\n",
       "fecha                                \n",
       "2023-10-03  4141.43  4053.76  4053.76\n",
       "2023-10-04  4187.01  4141.43  4053.76\n",
       "2023-10-05  4252.09  4187.01  4141.43\n",
       "2023-10-06  4359.40  4252.09  4187.01\n",
       "2023-10-07  4386.66  4359.40  4252.09\n",
       "2023-10-08  4386.66  4386.66  4359.40\n",
       "2023-10-09  4386.66  4386.66  4386.66\n",
       "2023-10-10  4386.66  4386.66  4386.66\n",
       "2023-10-11  4231.97  4386.66  4386.66\n",
       "2023-10-12  4212.50  4231.97  4386.66\n",
       "2023-10-13  4230.61  4212.50  4231.97\n",
       "2023-10-14  4249.00  4230.61  4212.50\n",
       "2023-10-15  4249.00  4249.00  4230.61\n",
       "2023-10-16  4249.00  4249.00  4249.00\n",
       "2023-10-17  4249.00  4249.00  4249.00\n",
       "2023-10-18  4222.09  4249.00  4249.00\n",
       "2023-10-19  4227.39  4222.09  4249.00\n",
       "2023-10-20  4249.71  4227.39  4222.09\n",
       "2023-10-21  4238.85  4249.71  4227.39\n",
       "2023-10-22  4238.85  4238.85  4249.71\n",
       "2023-10-23  4238.85  4238.85  4238.85\n",
       "2023-10-24  4221.39  4238.85  4238.85"
      ]
     },
     "execution_count": 6,
     "metadata": {},
     "output_type": "execute_result"
    }
   ],
   "source": [
    "df"
   ]
  },
  {
   "cell_type": "code",
   "execution_count": 7,
   "id": "70567c5a-157f-4967-9c72-52524f9eee50",
   "metadata": {
    "tags": []
   },
   "outputs": [],
   "source": [
    "X = df.drop('t-0', axis=1)\n",
    "y = df['t-0']"
   ]
  },
  {
   "cell_type": "code",
   "execution_count": 8,
   "id": "d020118e-7ec5-4a2a-ab65-1c798e491fc5",
   "metadata": {
    "tags": []
   },
   "outputs": [],
   "source": [
    "X_train, X_test, y_train, y_test = train_test_split(X, y, test_size=0.3, shuffle=False) #Sin desordenar los datos"
   ]
  },
  {
   "cell_type": "code",
   "execution_count": 9,
   "id": "690fe57f-bcbe-469c-8bd0-25632b4e237f",
   "metadata": {
    "tags": []
   },
   "outputs": [],
   "source": [
    "train, test = train_test_split(df, test_size=0.3, shuffle=False)"
   ]
  },
  {
   "cell_type": "markdown",
   "id": "336fcc16-e986-42e4-a32c-0ccec901eb59",
   "metadata": {},
   "source": [
    "# Save as scv"
   ]
  },
  {
   "cell_type": "code",
   "execution_count": 10,
   "id": "20b744c5-3386-4639-a85c-d08f13b980a5",
   "metadata": {
    "tags": []
   },
   "outputs": [],
   "source": [
    "train.to_csv(\"train.csv\", index=False)"
   ]
  },
  {
   "cell_type": "code",
   "execution_count": 11,
   "id": "8a4f21f0-664b-4672-a535-afc318ea0769",
   "metadata": {
    "tags": []
   },
   "outputs": [],
   "source": [
    "test.to_csv(\"test.csv\", index=False)"
   ]
  },
  {
   "cell_type": "markdown",
   "id": "759d9f14-0649-4c55-ba55-469bd73fa6be",
   "metadata": {},
   "source": [
    "# Sagemaker session"
   ]
  },
  {
   "cell_type": "code",
   "execution_count": 12,
   "id": "0a6be767-aab8-4a0a-b130-9234bdfd7e5c",
   "metadata": {
    "tags": []
   },
   "outputs": [
    {
     "name": "stdout",
     "output_type": "stream",
     "text": [
      "sagemaker.config INFO - Not applying SDK defaults from location: /etc/xdg/sagemaker/config.yaml\n",
      "sagemaker.config INFO - Not applying SDK defaults from location: /home/ec2-user/.config/sagemaker/config.yaml\n"
     ]
    }
   ],
   "source": [
    "session = sagemaker.session.Session()"
   ]
  },
  {
   "cell_type": "code",
   "execution_count": 13,
   "id": "92d44b77-33bf-4bf6-864e-f080fd19fa0f",
   "metadata": {
    "tags": []
   },
   "outputs": [
    {
     "name": "stdout",
     "output_type": "stream",
     "text": [
      "sagemaker.config INFO - Not applying SDK defaults from location: /etc/xdg/sagemaker/config.yaml\n",
      "sagemaker.config INFO - Not applying SDK defaults from location: /home/ec2-user/.config/sagemaker/config.yaml\n"
     ]
    }
   ],
   "source": [
    "s3_train_dataset_path = sagemaker.s3.S3Uploader.upload(\"train.csv\", f\"s3://datasets-clau/dolar\")"
   ]
  },
  {
   "cell_type": "code",
   "execution_count": 14,
   "id": "ecf9a1bd-d293-45b6-a13d-09326403d830",
   "metadata": {
    "tags": []
   },
   "outputs": [
    {
     "name": "stdout",
     "output_type": "stream",
     "text": [
      "sagemaker.config INFO - Not applying SDK defaults from location: /etc/xdg/sagemaker/config.yaml\n",
      "sagemaker.config INFO - Not applying SDK defaults from location: /home/ec2-user/.config/sagemaker/config.yaml\n"
     ]
    }
   ],
   "source": [
    "s3_test_dataset_path = sagemaker.s3.S3Uploader.upload(\"test.csv\", f\"s3://datasets-clau/dolar\")"
   ]
  },
  {
   "cell_type": "markdown",
   "id": "f2614147-a909-40c1-80f7-519f57f9ea23",
   "metadata": {},
   "source": [
    "# Modelo para predecir el precio del dolar"
   ]
  },
  {
   "cell_type": "code",
   "execution_count": 15,
   "id": "4341a4c1-2b95-4420-a011-6a0c8f6b6d14",
   "metadata": {
    "tags": []
   },
   "outputs": [
    {
     "data": {
      "text/html": [
       "<style>#sk-container-id-1 {color: black;}#sk-container-id-1 pre{padding: 0;}#sk-container-id-1 div.sk-toggleable {background-color: white;}#sk-container-id-1 label.sk-toggleable__label {cursor: pointer;display: block;width: 100%;margin-bottom: 0;padding: 0.3em;box-sizing: border-box;text-align: center;}#sk-container-id-1 label.sk-toggleable__label-arrow:before {content: \"▸\";float: left;margin-right: 0.25em;color: #696969;}#sk-container-id-1 label.sk-toggleable__label-arrow:hover:before {color: black;}#sk-container-id-1 div.sk-estimator:hover label.sk-toggleable__label-arrow:before {color: black;}#sk-container-id-1 div.sk-toggleable__content {max-height: 0;max-width: 0;overflow: hidden;text-align: left;background-color: #f0f8ff;}#sk-container-id-1 div.sk-toggleable__content pre {margin: 0.2em;color: black;border-radius: 0.25em;background-color: #f0f8ff;}#sk-container-id-1 input.sk-toggleable__control:checked~div.sk-toggleable__content {max-height: 200px;max-width: 100%;overflow: auto;}#sk-container-id-1 input.sk-toggleable__control:checked~label.sk-toggleable__label-arrow:before {content: \"▾\";}#sk-container-id-1 div.sk-estimator input.sk-toggleable__control:checked~label.sk-toggleable__label {background-color: #d4ebff;}#sk-container-id-1 div.sk-label input.sk-toggleable__control:checked~label.sk-toggleable__label {background-color: #d4ebff;}#sk-container-id-1 input.sk-hidden--visually {border: 0;clip: rect(1px 1px 1px 1px);clip: rect(1px, 1px, 1px, 1px);height: 1px;margin: -1px;overflow: hidden;padding: 0;position: absolute;width: 1px;}#sk-container-id-1 div.sk-estimator {font-family: monospace;background-color: #f0f8ff;border: 1px dotted black;border-radius: 0.25em;box-sizing: border-box;margin-bottom: 0.5em;}#sk-container-id-1 div.sk-estimator:hover {background-color: #d4ebff;}#sk-container-id-1 div.sk-parallel-item::after {content: \"\";width: 100%;border-bottom: 1px solid gray;flex-grow: 1;}#sk-container-id-1 div.sk-label:hover label.sk-toggleable__label {background-color: #d4ebff;}#sk-container-id-1 div.sk-serial::before {content: \"\";position: absolute;border-left: 1px solid gray;box-sizing: border-box;top: 0;bottom: 0;left: 50%;z-index: 0;}#sk-container-id-1 div.sk-serial {display: flex;flex-direction: column;align-items: center;background-color: white;padding-right: 0.2em;padding-left: 0.2em;position: relative;}#sk-container-id-1 div.sk-item {position: relative;z-index: 1;}#sk-container-id-1 div.sk-parallel {display: flex;align-items: stretch;justify-content: center;background-color: white;position: relative;}#sk-container-id-1 div.sk-item::before, #sk-container-id-1 div.sk-parallel-item::before {content: \"\";position: absolute;border-left: 1px solid gray;box-sizing: border-box;top: 0;bottom: 0;left: 50%;z-index: -1;}#sk-container-id-1 div.sk-parallel-item {display: flex;flex-direction: column;z-index: 1;position: relative;background-color: white;}#sk-container-id-1 div.sk-parallel-item:first-child::after {align-self: flex-end;width: 50%;}#sk-container-id-1 div.sk-parallel-item:last-child::after {align-self: flex-start;width: 50%;}#sk-container-id-1 div.sk-parallel-item:only-child::after {width: 0;}#sk-container-id-1 div.sk-dashed-wrapped {border: 1px dashed gray;margin: 0 0.4em 0.5em 0.4em;box-sizing: border-box;padding-bottom: 0.4em;background-color: white;}#sk-container-id-1 div.sk-label label {font-family: monospace;font-weight: bold;display: inline-block;line-height: 1.2em;}#sk-container-id-1 div.sk-label-container {text-align: center;}#sk-container-id-1 div.sk-container {/* jupyter's `normalize.less` sets `[hidden] { display: none; }` but bootstrap.min.css set `[hidden] { display: none !important; }` so we also need the `!important` here to be able to override the default hidden behavior on the sphinx rendered scikit-learn.org. See: https://github.com/scikit-learn/scikit-learn/issues/21755 */display: inline-block !important;position: relative;}#sk-container-id-1 div.sk-text-repr-fallback {display: none;}</style><div id=\"sk-container-id-1\" class=\"sk-top-container\"><div class=\"sk-text-repr-fallback\"><pre>KNeighborsRegressor(n_neighbors=10, weights=&#x27;distance&#x27;)</pre><b>In a Jupyter environment, please rerun this cell to show the HTML representation or trust the notebook. <br />On GitHub, the HTML representation is unable to render, please try loading this page with nbviewer.org.</b></div><div class=\"sk-container\" hidden><div class=\"sk-item\"><div class=\"sk-estimator sk-toggleable\"><input class=\"sk-toggleable__control sk-hidden--visually\" id=\"sk-estimator-id-1\" type=\"checkbox\" checked><label for=\"sk-estimator-id-1\" class=\"sk-toggleable__label sk-toggleable__label-arrow\">KNeighborsRegressor</label><div class=\"sk-toggleable__content\"><pre>KNeighborsRegressor(n_neighbors=10, weights=&#x27;distance&#x27;)</pre></div></div></div></div></div>"
      ],
      "text/plain": [
       "KNeighborsRegressor(n_neighbors=10, weights='distance')"
      ]
     },
     "execution_count": 15,
     "metadata": {},
     "output_type": "execute_result"
    }
   ],
   "source": [
    "clf = KNeighborsRegressor(n_neighbors=10, weights='distance')\n",
    "clf.fit(X_train, y_train)"
   ]
  },
  {
   "cell_type": "markdown",
   "id": "50187638-f313-47cc-99f3-799bb11a6ffc",
   "metadata": {
    "tags": []
   },
   "source": [
    "### Probar modelo:"
   ]
  },
  {
   "cell_type": "code",
   "execution_count": 16,
   "id": "b6827e71-e409-4040-a80a-8cc1b2c42411",
   "metadata": {
    "tags": []
   },
   "outputs": [
    {
     "data": {
      "text/html": [
       "<div>\n",
       "<style scoped>\n",
       "    .dataframe tbody tr th:only-of-type {\n",
       "        vertical-align: middle;\n",
       "    }\n",
       "\n",
       "    .dataframe tbody tr th {\n",
       "        vertical-align: top;\n",
       "    }\n",
       "\n",
       "    .dataframe thead th {\n",
       "        text-align: right;\n",
       "    }\n",
       "</style>\n",
       "<table border=\"1\" class=\"dataframe\">\n",
       "  <thead>\n",
       "    <tr style=\"text-align: right;\">\n",
       "      <th></th>\n",
       "      <th>t-1</th>\n",
       "      <th>t-2</th>\n",
       "    </tr>\n",
       "    <tr>\n",
       "      <th>fecha</th>\n",
       "      <th></th>\n",
       "      <th></th>\n",
       "    </tr>\n",
       "  </thead>\n",
       "  <tbody>\n",
       "    <tr>\n",
       "      <th>2023-10-23</th>\n",
       "      <td>4230.0</td>\n",
       "      <td>4238.9707</td>\n",
       "    </tr>\n",
       "  </tbody>\n",
       "</table>\n",
       "</div>"
      ],
      "text/plain": [
       "               t-1        t-2\n",
       "fecha                        \n",
       "2023-10-23  4230.0  4238.9707"
      ]
     },
     "execution_count": 16,
     "metadata": {},
     "output_type": "execute_result"
    }
   ],
   "source": [
    "prueba = pd.DataFrame({'fecha':['2023-10-23'], 't-1': [4230.0], 't-2': [4238.9707]})\n",
    "prueba['fecha'] = pd.to_datetime(prueba['fecha'], format='%Y-%m-%d')\n",
    "prueba = prueba.set_index('fecha')\n",
    "prueba = prueba.sort_index()\n",
    "prueba"
   ]
  },
  {
   "cell_type": "code",
   "execution_count": 17,
   "id": "371d9e2b-740e-4180-b14d-0e46adbe26e0",
   "metadata": {
    "tags": []
   },
   "outputs": [
    {
     "data": {
      "text/plain": [
       "array([4258.02973428])"
      ]
     },
     "execution_count": 17,
     "metadata": {},
     "output_type": "execute_result"
    }
   ],
   "source": [
    "valor_predict = clf.predict(prueba)\n",
    "valor_predict"
   ]
  },
  {
   "cell_type": "markdown",
   "id": "aafbbbab-fc3b-4dc7-b515-da235f12b774",
   "metadata": {
    "tags": []
   },
   "source": [
    "# Empaquetar el modelo"
   ]
  },
  {
   "cell_type": "code",
   "execution_count": 18,
   "id": "97d4ba73-0957-4b56-b0fd-06296eaed5bc",
   "metadata": {
    "tags": []
   },
   "outputs": [
    {
     "data": {
      "text/plain": [
       "['model.joblib']"
      ]
     },
     "execution_count": 18,
     "metadata": {},
     "output_type": "execute_result"
    }
   ],
   "source": [
    "joblib.dump(clf, 'model.joblib')"
   ]
  },
  {
   "cell_type": "code",
   "execution_count": 19,
   "id": "d01b7a74-380b-4a85-b78a-1eef46f9e521",
   "metadata": {
    "tags": []
   },
   "outputs": [
    {
     "name": "stdout",
     "output_type": "stream",
     "text": [
      "model.joblib\n"
     ]
    }
   ],
   "source": [
    "!tar -czvf model.tar.gz model.joblib"
   ]
  },
  {
   "cell_type": "markdown",
   "id": "2ef27cbe-fe15-4306-b4a5-e3bddccbcdb9",
   "metadata": {},
   "source": [
    "# Upload model to s3"
   ]
  },
  {
   "cell_type": "code",
   "execution_count": 20,
   "id": "1e099a60-336d-499a-9ed8-2667626f4dd5",
   "metadata": {
    "tags": []
   },
   "outputs": [],
   "source": [
    "session_bucket = session.default_bucket()"
   ]
  },
  {
   "cell_type": "code",
   "execution_count": 21,
   "id": "4bfee431-47bf-4ec8-b81a-b8d1671f8382",
   "metadata": {
    "tags": []
   },
   "outputs": [],
   "source": [
    "region = 'us-east-1'\n",
    "role = 'LabRole'"
   ]
  },
  {
   "cell_type": "code",
   "execution_count": 22,
   "id": "c64edfed-a6e7-44f8-8eb7-e2118c0da549",
   "metadata": {
    "tags": []
   },
   "outputs": [
    {
     "name": "stdout",
     "output_type": "stream",
     "text": [
      "sagemaker.config INFO - Not applying SDK defaults from location: /etc/xdg/sagemaker/config.yaml\n",
      "sagemaker.config INFO - Not applying SDK defaults from location: /home/ec2-user/.config/sagemaker/config.yaml\n"
     ]
    },
    {
     "data": {
      "text/plain": [
       "'s3://sagemaker-us-east-1-373452244141/precio_dolar_model/model.tar.gz'"
      ]
     },
     "execution_count": 22,
     "metadata": {},
     "output_type": "execute_result"
    }
   ],
   "source": [
    "model_path = sagemaker.s3.S3Uploader.upload(\n",
    "    \"model.tar.gz\",\n",
    "    f\"s3://{session_bucket}/precio_dolar_model\"\n",
    ")\n",
    "model_path"
   ]
  },
  {
   "cell_type": "markdown",
   "id": "8aeacae0-bf5d-434f-9717-d9f70d54d2ab",
   "metadata": {
    "tags": []
   },
   "source": [
    "# Create entrypoint"
   ]
  },
  {
   "cell_type": "code",
   "execution_count": 23,
   "id": "0bae920b-ec66-4c52-8bef-1c086c2e2145",
   "metadata": {
    "tags": []
   },
   "outputs": [
    {
     "name": "stdout",
     "output_type": "stream",
     "text": [
      "Overwriting entrypoint.py\n"
     ]
    }
   ],
   "source": [
    "%%writefile entrypoint.py\n",
    "import joblib\n",
    "import os\n",
    "import numpy as np\n",
    "\n",
    "def model_fn(model_dir):\n",
    "    model = joblib.load(os.path.join(model_dir, \"model.joblib\"))\n",
    "    return model\n",
    "\n",
    "def predict_fn(input_object, model):\n",
    "    if np.ndim(input_object) == 1:\n",
    "        input_object = np.expand_dims(input_object, axis = 0)\n",
    "    y_hay = model.predict(input_object)\n",
    "    return y_hay"
   ]
  },
  {
   "cell_type": "code",
   "execution_count": 24,
   "id": "7f8d13da-5f84-4e68-8090-eb7598bd83d1",
   "metadata": {
    "tags": []
   },
   "outputs": [
    {
     "name": "stdout",
     "output_type": "stream",
     "text": [
      "KNeighborsRegressor(n_neighbors=10, weights='distance')\n"
     ]
    }
   ],
   "source": [
    "!python -c \"from entrypoint import model_fn; print(model_fn(''));\""
   ]
  },
  {
   "cell_type": "code",
   "execution_count": 25,
   "id": "4bc4b831-c228-41b6-8a25-8cd938dbf57e",
   "metadata": {
    "tags": []
   },
   "outputs": [
    {
     "name": "stdout",
     "output_type": "stream",
     "text": [
      "[4258.02973428]\n"
     ]
    }
   ],
   "source": [
    "!python -c \"from entrypoint import predict_fn; import pandas as pd; \\\n",
    "            import joblib; \\\n",
    "            model = joblib.load('model.joblib'); \\\n",
    "            print(predict_fn(pd.DataFrame.from_dict({'t-1': [4230.0], 't-2': [4238.9707]}), model));\""
   ]
  },
  {
   "cell_type": "code",
   "execution_count": 26,
   "id": "13726768-e01e-4ffd-b39c-6bd2b449d090",
   "metadata": {
    "tags": []
   },
   "outputs": [
    {
     "name": "stdout",
     "output_type": "stream",
     "text": [
      "[4258.02973428]\n"
     ]
    }
   ],
   "source": [
    "!python -c \"from entrypoint import predict_fn; import pandas as pd; \\\n",
    "            import joblib; \\\n",
    "            model = joblib.load('model.joblib'); \\\n",
    "            prueba = pd.DataFrame({'fecha':['2023-10-23'], 't-1': [4230.0], 't-2': [4238.9707]}); \\\n",
    "            prueba['fecha'] = pd.to_datetime(prueba['fecha'], format='%Y-%m-%d'); \\\n",
    "            prueba = prueba.set_index('fecha'); \\\n",
    "            prueba = prueba.sort_index(); \\\n",
    "            print(predict_fn(prueba, model));\""
   ]
  },
  {
   "cell_type": "markdown",
   "id": "6e608177-1f39-4110-95a0-930ab24100d5",
   "metadata": {
    "tags": []
   },
   "source": [
    "# Create Baseline"
   ]
  },
  {
   "cell_type": "code",
   "execution_count": 55,
   "id": "86452bab-c952-425f-a2ab-d24338aee381",
   "metadata": {
    "tags": []
   },
   "outputs": [],
   "source": [
    "clf = joblib.load(\"model.joblib\")"
   ]
  },
  {
   "cell_type": "code",
   "execution_count": 56,
   "id": "d67b3933-924f-40ea-9f71-167ed1c06dc7",
   "metadata": {
    "tags": []
   },
   "outputs": [],
   "source": [
    "df_val = pd.read_csv(\"test.csv\")"
   ]
  },
  {
   "cell_type": "code",
   "execution_count": 57,
   "id": "920a144c-f8ae-4a6f-aff9-a23a4c611b66",
   "metadata": {
    "tags": []
   },
   "outputs": [
    {
     "data": {
      "text/html": [
       "<div>\n",
       "<style scoped>\n",
       "    .dataframe tbody tr th:only-of-type {\n",
       "        vertical-align: middle;\n",
       "    }\n",
       "\n",
       "    .dataframe tbody tr th {\n",
       "        vertical-align: top;\n",
       "    }\n",
       "\n",
       "    .dataframe thead th {\n",
       "        text-align: right;\n",
       "    }\n",
       "</style>\n",
       "<table border=\"1\" class=\"dataframe\">\n",
       "  <thead>\n",
       "    <tr style=\"text-align: right;\">\n",
       "      <th></th>\n",
       "      <th>t-1</th>\n",
       "      <th>t-2</th>\n",
       "    </tr>\n",
       "  </thead>\n",
       "  <tbody>\n",
       "    <tr>\n",
       "      <th>0</th>\n",
       "      <td>4249.00</td>\n",
       "      <td>4249.00</td>\n",
       "    </tr>\n",
       "    <tr>\n",
       "      <th>1</th>\n",
       "      <td>4222.09</td>\n",
       "      <td>4249.00</td>\n",
       "    </tr>\n",
       "    <tr>\n",
       "      <th>2</th>\n",
       "      <td>4227.39</td>\n",
       "      <td>4222.09</td>\n",
       "    </tr>\n",
       "    <tr>\n",
       "      <th>3</th>\n",
       "      <td>4249.71</td>\n",
       "      <td>4227.39</td>\n",
       "    </tr>\n",
       "    <tr>\n",
       "      <th>4</th>\n",
       "      <td>4238.85</td>\n",
       "      <td>4249.71</td>\n",
       "    </tr>\n",
       "    <tr>\n",
       "      <th>5</th>\n",
       "      <td>4238.85</td>\n",
       "      <td>4238.85</td>\n",
       "    </tr>\n",
       "    <tr>\n",
       "      <th>6</th>\n",
       "      <td>4238.85</td>\n",
       "      <td>4238.85</td>\n",
       "    </tr>\n",
       "  </tbody>\n",
       "</table>\n",
       "</div>"
      ],
      "text/plain": [
       "       t-1      t-2\n",
       "0  4249.00  4249.00\n",
       "1  4222.09  4249.00\n",
       "2  4227.39  4222.09\n",
       "3  4249.71  4227.39\n",
       "4  4238.85  4249.71\n",
       "5  4238.85  4238.85\n",
       "6  4238.85  4238.85"
      ]
     },
     "execution_count": 57,
     "metadata": {},
     "output_type": "execute_result"
    }
   ],
   "source": [
    "X_val = df_val.iloc[:,1:]\n",
    "X_val"
   ]
  },
  {
   "cell_type": "code",
   "execution_count": 58,
   "id": "7192c1e7-5d9b-45f9-b000-eb1feca16513",
   "metadata": {
    "tags": []
   },
   "outputs": [
    {
     "data": {
      "text/plain": [
       "0    4222.09\n",
       "1    4227.39\n",
       "2    4249.71\n",
       "3    4238.85\n",
       "4    4238.85\n",
       "5    4238.85\n",
       "6    4221.39\n",
       "Name: t-0, dtype: float64"
      ]
     },
     "execution_count": 58,
     "metadata": {},
     "output_type": "execute_result"
    }
   ],
   "source": [
    "y_val = df_val['t-0']\n",
    "y_val"
   ]
  },
  {
   "cell_type": "code",
   "execution_count": 59,
   "id": "8a20d62d-5e91-4b33-9979-0e064f958d17",
   "metadata": {
    "tags": []
   },
   "outputs": [],
   "source": [
    "y_val_predict = clf.predict(X_val)"
   ]
  },
  {
   "cell_type": "code",
   "execution_count": 60,
   "id": "1720bed6-107b-47df-926d-d62621b11d70",
   "metadata": {
    "tags": []
   },
   "outputs": [],
   "source": [
    "df = pd.DataFrame()"
   ]
  },
  {
   "cell_type": "code",
   "execution_count": 61,
   "id": "a58847be-75d7-47ba-9384-a7d75fc5bead",
   "metadata": {
    "tags": []
   },
   "outputs": [],
   "source": [
    "df[\"probability\"] = 1.0\n",
    "df[\"prediction\"] = y_val_predict\n",
    "df[\"label\"] = y_val"
   ]
  },
  {
   "cell_type": "code",
   "execution_count": 63,
   "id": "7940ce6e-3f61-4d4e-ba89-50736671847b",
   "metadata": {
    "tags": []
   },
   "outputs": [
    {
     "data": {
      "text/html": [
       "<div>\n",
       "<style scoped>\n",
       "    .dataframe tbody tr th:only-of-type {\n",
       "        vertical-align: middle;\n",
       "    }\n",
       "\n",
       "    .dataframe tbody tr th {\n",
       "        vertical-align: top;\n",
       "    }\n",
       "\n",
       "    .dataframe thead th {\n",
       "        text-align: right;\n",
       "    }\n",
       "</style>\n",
       "<table border=\"1\" class=\"dataframe\">\n",
       "  <thead>\n",
       "    <tr style=\"text-align: right;\">\n",
       "      <th></th>\n",
       "      <th>probability</th>\n",
       "      <th>prediction</th>\n",
       "      <th>label</th>\n",
       "    </tr>\n",
       "  </thead>\n",
       "  <tbody>\n",
       "    <tr>\n",
       "      <th>0</th>\n",
       "      <td>1.0</td>\n",
       "      <td>4249.000000</td>\n",
       "      <td>4222.09</td>\n",
       "    </tr>\n",
       "    <tr>\n",
       "      <th>1</th>\n",
       "      <td>1.0</td>\n",
       "      <td>4258.398289</td>\n",
       "      <td>4227.39</td>\n",
       "    </tr>\n",
       "    <tr>\n",
       "      <th>2</th>\n",
       "      <td>1.0</td>\n",
       "      <td>4255.620841</td>\n",
       "      <td>4249.71</td>\n",
       "    </tr>\n",
       "    <tr>\n",
       "      <th>3</th>\n",
       "      <td>1.0</td>\n",
       "      <td>4256.695300</td>\n",
       "      <td>4238.85</td>\n",
       "    </tr>\n",
       "    <tr>\n",
       "      <th>4</th>\n",
       "      <td>1.0</td>\n",
       "      <td>4257.084598</td>\n",
       "      <td>4238.85</td>\n",
       "    </tr>\n",
       "    <tr>\n",
       "      <th>5</th>\n",
       "      <td>1.0</td>\n",
       "      <td>4257.986476</td>\n",
       "      <td>4238.85</td>\n",
       "    </tr>\n",
       "    <tr>\n",
       "      <th>6</th>\n",
       "      <td>1.0</td>\n",
       "      <td>4257.986476</td>\n",
       "      <td>4221.39</td>\n",
       "    </tr>\n",
       "  </tbody>\n",
       "</table>\n",
       "</div>"
      ],
      "text/plain": [
       "   probability   prediction    label\n",
       "0          1.0  4249.000000  4222.09\n",
       "1          1.0  4258.398289  4227.39\n",
       "2          1.0  4255.620841  4249.71\n",
       "3          1.0  4256.695300  4238.85\n",
       "4          1.0  4257.084598  4238.85\n",
       "5          1.0  4257.986476  4238.85\n",
       "6          1.0  4257.986476  4221.39"
      ]
     },
     "execution_count": 63,
     "metadata": {},
     "output_type": "execute_result"
    }
   ],
   "source": [
    "df"
   ]
  },
  {
   "cell_type": "code",
   "execution_count": 64,
   "id": "75f3f4f8-ed45-48f8-a6aa-739c3fb52924",
   "metadata": {
    "tags": []
   },
   "outputs": [],
   "source": [
    "df.to_csv(\"validation_with_prediction.csv\", index=False)"
   ]
  },
  {
   "cell_type": "code",
   "execution_count": 65,
   "id": "105c539a-b55b-49bb-8444-f24cb1730960",
   "metadata": {
    "tags": []
   },
   "outputs": [
    {
     "name": "stdout",
     "output_type": "stream",
     "text": [
      "sagemaker.config INFO - Not applying SDK defaults from location: /etc/xdg/sagemaker/config.yaml\n",
      "sagemaker.config INFO - Not applying SDK defaults from location: /home/ec2-user/.config/sagemaker/config.yaml\n"
     ]
    }
   ],
   "source": [
    "validation_dataset_uri = sagemaker.s3.S3Uploader.upload(\n",
    "    \"validation_with_prediction.csv\",\n",
    "    f\"s3://{session_bucket}/dolar/validation_dataset\"\n",
    ")"
   ]
  },
  {
   "cell_type": "code",
   "execution_count": 66,
   "id": "60e7fded-b5a7-412f-a24d-da2405972d0e",
   "metadata": {
    "tags": []
   },
   "outputs": [
    {
     "data": {
      "text/plain": [
       "'s3://sagemaker-us-east-1-373452244141/dolar/validation_dataset/validation_with_prediction.csv'"
      ]
     },
     "execution_count": 66,
     "metadata": {},
     "output_type": "execute_result"
    }
   ],
   "source": [
    "validation_dataset_uri"
   ]
  },
  {
   "cell_type": "code",
   "execution_count": 39,
   "id": "7b4147e9-2c3a-4b36-a930-c3706f548143",
   "metadata": {
    "tags": []
   },
   "outputs": [],
   "source": [
    "churn_model_quality_monitor = ModelQualityMonitor(\n",
    "    role=role,\n",
    "    instance_count=1,\n",
    "    instance_type=\"ml.m5.xlarge\",\n",
    "    volume_size_in_gb=20,\n",
    "    max_runtime_in_seconds=1800,\n",
    "    sagemaker_session=session,\n",
    ")"
   ]
  },
  {
   "cell_type": "code",
   "execution_count": 40,
   "id": "0e1ab4d5-69c9-4b3e-9f01-94c8c45163d4",
   "metadata": {
    "tags": []
   },
   "outputs": [
    {
     "name": "stderr",
     "output_type": "stream",
     "text": [
      "INFO:sagemaker:Creating processing-job with name baseline-suggestion-job-2023-10-24-20-55-14-497\n"
     ]
    },
    {
     "name": "stdout",
     "output_type": "stream",
     "text": [
      "..........................................................................!"
     ]
    }
   ],
   "source": [
    "job = churn_model_quality_monitor.suggest_baseline(\n",
    "    baseline_dataset=validation_dataset_uri,\n",
    "    dataset_format=DatasetFormat.csv(header=True),\n",
    "    output_s3_uri=f\"s3://{session_bucket}/dolar/baseline\",\n",
    "    problem_type=\"MulticlassClassification\", #BinaryClassification\n",
    "    inference_attribute=\"prediction\",\n",
    "    probability_attribute=\"probability\",\n",
    "    ground_truth_attribute=\"label\",\n",
    ")\n",
    "job.wait(logs=False)"
   ]
  },
  {
   "cell_type": "markdown",
   "id": "03b50bc2-5334-4725-8ce4-03732071c6ff",
   "metadata": {
    "tags": []
   },
   "source": [
    "# Create DataCapture Object"
   ]
  },
  {
   "cell_type": "code",
   "execution_count": 41,
   "id": "fd7c0814-3b26-440b-a576-ed8a064f8d1c",
   "metadata": {
    "tags": []
   },
   "outputs": [],
   "source": [
    "s3_capture_upload_path = f\"s3://{session_bucket}/dolar/data_capture\""
   ]
  },
  {
   "cell_type": "code",
   "execution_count": 42,
   "id": "c2cef411-c3a3-4ef3-b1ca-6e821ca58b43",
   "metadata": {
    "tags": []
   },
   "outputs": [
    {
     "name": "stdout",
     "output_type": "stream",
     "text": [
      "sagemaker.config INFO - Not applying SDK defaults from location: /etc/xdg/sagemaker/config.yaml\n",
      "sagemaker.config INFO - Not applying SDK defaults from location: /home/ec2-user/.config/sagemaker/config.yaml\n"
     ]
    }
   ],
   "source": [
    "data_capture_config = DataCaptureConfig(\n",
    "    enable_capture=True, sampling_percentage=100, destination_s3_uri=s3_capture_upload_path\n",
    ")"
   ]
  },
  {
   "cell_type": "code",
   "execution_count": 43,
   "id": "3f6ceaab-0de9-481c-aa78-9efb6a336470",
   "metadata": {
    "tags": []
   },
   "outputs": [
    {
     "name": "stdout",
     "output_type": "stream",
     "text": [
      "s3://sagemaker-us-east-1-373452244141/dolar/data_capture\n"
     ]
    }
   ],
   "source": [
    "print(s3_capture_upload_path)"
   ]
  },
  {
   "cell_type": "code",
   "execution_count": 44,
   "id": "ca1515aa-21c2-430c-8e1a-552e95a6cac0",
   "metadata": {
    "tags": []
   },
   "outputs": [
    {
     "name": "stdout",
     "output_type": "stream",
     "text": [
      "sagemaker.config INFO - Not applying SDK defaults from location: /etc/xdg/sagemaker/config.yaml\n",
      "sagemaker.config INFO - Not applying SDK defaults from location: /home/ec2-user/.config/sagemaker/config.yaml\n"
     ]
    }
   ],
   "source": [
    "model = SKLearnModel(\n",
    "    model_data=model_path,\n",
    "    entry_point='entrypoint.py',\n",
    "    framework_version='1.2-1',\n",
    "    role=role\n",
    ")"
   ]
  },
  {
   "cell_type": "code",
   "execution_count": 45,
   "id": "d18b8e4b-1b3f-4f26-adc0-6179a75fbdcf",
   "metadata": {
    "tags": []
   },
   "outputs": [
    {
     "name": "stdout",
     "output_type": "stream",
     "text": [
      "sagemaker.config INFO - Not applying SDK defaults from location: /etc/xdg/sagemaker/config.yaml\n",
      "sagemaker.config INFO - Not applying SDK defaults from location: /home/ec2-user/.config/sagemaker/config.yaml\n"
     ]
    },
    {
     "name": "stderr",
     "output_type": "stream",
     "text": [
      "INFO:sagemaker:Creating model with name: sagemaker-scikit-learn-2023-10-24-21-01-33-713\n",
      "INFO:sagemaker:Creating endpoint-config with name sagemaker-scikit-learn-2023-10-24-21-01-34-433\n",
      "INFO:sagemaker:Creating endpoint with name sagemaker-scikit-learn-2023-10-24-21-01-34-433\n"
     ]
    },
    {
     "name": "stdout",
     "output_type": "stream",
     "text": [
      "----!"
     ]
    }
   ],
   "source": [
    "predictor = model.deploy(\n",
    "    initial_instance_count=1,\n",
    "    instance_type='ml.m5.xlarge',\n",
    "    serializer=CSVSerializer(),\n",
    "    deserializer=CSVDeserializer(),\n",
    "    data_capture_config=data_capture_config\n",
    ")"
   ]
  },
  {
   "cell_type": "code",
   "execution_count": 46,
   "id": "cffb5d63-5596-4d7d-a3ea-b5c2f0b32f16",
   "metadata": {
    "tags": []
   },
   "outputs": [],
   "source": [
    "predictor.deserializer = sagemaker.deserializers.CSVDeserializer()"
   ]
  },
  {
   "cell_type": "code",
   "execution_count": 47,
   "id": "55d7a20f-029c-48e8-b96d-347b784ceca5",
   "metadata": {
    "tags": []
   },
   "outputs": [
    {
     "data": {
      "text/html": [
       "<div>\n",
       "<style scoped>\n",
       "    .dataframe tbody tr th:only-of-type {\n",
       "        vertical-align: middle;\n",
       "    }\n",
       "\n",
       "    .dataframe tbody tr th {\n",
       "        vertical-align: top;\n",
       "    }\n",
       "\n",
       "    .dataframe thead th {\n",
       "        text-align: right;\n",
       "    }\n",
       "</style>\n",
       "<table border=\"1\" class=\"dataframe\">\n",
       "  <thead>\n",
       "    <tr style=\"text-align: right;\">\n",
       "      <th></th>\n",
       "      <th>t-1</th>\n",
       "      <th>t-2</th>\n",
       "    </tr>\n",
       "    <tr>\n",
       "      <th>fecha</th>\n",
       "      <th></th>\n",
       "      <th></th>\n",
       "    </tr>\n",
       "  </thead>\n",
       "  <tbody>\n",
       "    <tr>\n",
       "      <th>2023-10-23</th>\n",
       "      <td>4230.0</td>\n",
       "      <td>4238.9707</td>\n",
       "    </tr>\n",
       "  </tbody>\n",
       "</table>\n",
       "</div>"
      ],
      "text/plain": [
       "               t-1        t-2\n",
       "fecha                        \n",
       "2023-10-23  4230.0  4238.9707"
      ]
     },
     "execution_count": 47,
     "metadata": {},
     "output_type": "execute_result"
    }
   ],
   "source": [
    "prueba = pd.DataFrame({'fecha':['2023-10-23'], 't-1': [4230.0], 't-2': [4238.9707]})\n",
    "prueba['fecha'] = pd.to_datetime(prueba['fecha'], format='%Y-%m-%d')\n",
    "prueba = prueba.set_index('fecha')\n",
    "prueba = prueba.sort_index()\n",
    "prueba"
   ]
  },
  {
   "cell_type": "code",
   "execution_count": 48,
   "id": "88e170e7-f340-4dab-a556-a33f5ef418c7",
   "metadata": {
    "tags": []
   },
   "outputs": [
    {
     "data": {
      "text/plain": [
       "[['4258.029734321028']]"
      ]
     },
     "execution_count": 48,
     "metadata": {},
     "output_type": "execute_result"
    }
   ],
   "source": [
    "predictor.predict(prueba)"
   ]
  },
  {
   "cell_type": "code",
   "execution_count": 67,
   "id": "f766748d-5732-41de-80ab-cb282c859ea5",
   "metadata": {
    "tags": []
   },
   "outputs": [],
   "source": [
    "endpointInput = EndpointInput(\n",
    "    endpoint_name=predictor.endpoint_name,\n",
    "    probability_attribute=\"0\",\n",
    "    probability_threshold_attribute=0.5,\n",
    "    destination=\"/opt/ml/processing/input_data\",\n",
    ")"
   ]
  },
  {
   "cell_type": "code",
   "execution_count": 69,
   "id": "0816523b-7972-4f60-87dc-eab4bcc0e27d",
   "metadata": {
    "tags": []
   },
   "outputs": [
    {
     "name": "stderr",
     "output_type": "stream",
     "text": [
      "INFO:sagemaker.model_monitor.model_monitoring:Creating Monitoring Schedule with name: monitoring-schedule-2023-10-24-21-18-42-197\n"
     ]
    }
   ],
   "source": [
    "from sagemaker.model_monitor import CronExpressionGenerator\n",
    "\n",
    "response = churn_model_quality_monitor.create_monitoring_schedule(\n",
    "    endpoint_input=endpointInput,\n",
    "    output_s3_uri=f\"s3://{session_bucket}/dolar/results\",\n",
    "    problem_type=\"BinaryClassification\", #MulticlassClassification\n",
    "    ground_truth_input=f\"s3://{session_bucket}/dolar/ground_truth/\",\n",
    "    constraints=f\"s3://{session_bucket}/dolar/baseline/constraints.json\",\n",
    "    schedule_cron_expression=CronExpressionGenerator.hourly(),\n",
    "    enable_cloudwatch_metrics=True,\n",
    ")"
   ]
  },
  {
   "cell_type": "code",
   "execution_count": null,
   "id": "ba005497-c923-4f3d-bc93-f8f2dd6cdf8f",
   "metadata": {},
   "outputs": [],
   "source": []
  }
 ],
 "metadata": {
  "kernelspec": {
   "display_name": "conda_python3",
   "language": "python",
   "name": "conda_python3"
  },
  "language_info": {
   "codemirror_mode": {
    "name": "ipython",
    "version": 3
   },
   "file_extension": ".py",
   "mimetype": "text/x-python",
   "name": "python",
   "nbconvert_exporter": "python",
   "pygments_lexer": "ipython3",
   "version": "3.10.12"
  },
  "toc-showmarkdowntxt": true
 },
 "nbformat": 4,
 "nbformat_minor": 5
}
